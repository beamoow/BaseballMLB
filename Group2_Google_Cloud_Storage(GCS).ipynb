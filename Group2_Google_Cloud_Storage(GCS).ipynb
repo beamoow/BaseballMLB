{
 "cells": [
  {
   "cell_type": "markdown",
   "id": "909842b2",
   "metadata": {},
   "source": [
    "# ⚾Group2\n",
    "####   - DSI310 final assignment: Data Catalog Google Cloud Storage (GCS)\n",
    "* 6424650031 แพรวา ประสาทไทย\n",
    "* 6424650395 ศิวกร นิตย์กิจสมบูรณ์\n",
    "* 6424650494 อธิชา เจริญธนกิจกุล\n",
    "* 6424650551 เบญฤญา คำคงศักดิ์\n",
    "* 6424650627 วิชญาพร ธนสิทธิโชค\n"
   ]
  },
  {
   "cell_type": "code",
   "execution_count": 2,
   "id": "e5629382-f2c7-4132-a30b-199b92054048",
   "metadata": {},
   "outputs": [],
   "source": [
    "import pandas as pd\n",
    "import fsspec\n",
    "import pyarrow as pa\n",
    "import pyarrow.parquet as pq\n",
    "from datetime import datetime\n",
    "import os\n",
    "\n",
    "def tree(fs, path, prefix=\"\"):\n",
    "    \"\"\"Recursively list the contents of a directory in a tree-like format.\"\"\"\n",
    "    # print(path)\n",
    "    items = fs.ls(path, detail=True)\n",
    "    for i, item in enumerate(items):\n",
    "        is_last = i == (len(items) - 1)  # Check if this is the last item\n",
    "        if item['type'] == 'directory':\n",
    "            # Print the directory name\n",
    "            print(f\"{prefix}{'└── ' if is_last else '├── '}{item['name'].split('/')[-1]}\")\n",
    "            # Recursively list this directory's contents\n",
    "            new_prefix = prefix + ('    ' if is_last else '│   ')\n",
    "            tree(fs, item['name'], new_prefix)\n",
    "        else:\n",
    "            # Print the file name\n",
    "            print(f\"{prefix}{'└── ' if is_last else '├── '}{item['name'].split('/')[-1]}\")\n"
   ]
  },
  {
   "cell_type": "markdown",
   "id": "cf25db13-33b9-462e-9249-c1e58de6e1b7",
   "metadata": {},
   "source": [
    "### Local File System"
   ]
  },
  {
   "cell_type": "code",
   "execution_count": 8,
   "id": "45b75e25-7bca-4ef8-8bd2-ab5ae8047929",
   "metadata": {},
   "outputs": [],
   "source": [
    "# fs = fsspec.filesystem('file',auto_mkdir=True) #fsspec.filesystem(catalog_path, auto_mkdir=False)\n",
    "\n",
    "# catalog_path='./catalog/'\n",
    "# with fs.open(catalog_path+'readme.md','wb') as f:\n",
    "#     f.write(b'# Hello')\n",
    "    \n",
    "# tree(fs,catalog_path)"
   ]
  },
  {
   "cell_type": "markdown",
   "id": "40dbc12c-4238-4173-9eb8-6104e3866d17",
   "metadata": {},
   "source": [
    "### Google Cloud Storage(GCS)"
   ]
  },
  {
   "cell_type": "code",
   "execution_count": 3,
   "id": "c083b78d-3b5d-4d0d-b449-e0d211e4a1b8",
   "metadata": {},
   "outputs": [
    {
     "name": "stdout",
     "output_type": "stream",
     "text": [
      "├── 2023-12-14\n",
      "│   ├── 2022_MLB_Batting.parquet\n",
      "│   ├── 2022_MLB_Pitching.parquet\n",
      "│   ├── Batter_stats.parquet\n",
      "│   ├── Pitcher_stats.parquet\n",
      "│   └── Prospect.parquet\n",
      "└── \n"
     ]
    }
   ],
   "source": [
    "gcs_token_path = r'teacher-dsi310-2023.json'\n",
    "catalog_path = 'gcs://dsi310_bucket/group02'\n",
    "fs=fsspec.filesystem('gcs', token= gcs_token_path)\n",
    "tree(fs,catalog_path)\n"
   ]
  },
  {
   "cell_type": "markdown",
   "id": "fbc863bf",
   "metadata": {},
   "source": [
    "## Data set1"
   ]
  },
  {
   "cell_type": "code",
   "execution_count": 63,
   "id": "da38db9b",
   "metadata": {},
   "outputs": [
    {
     "data": {
      "text/plain": [
       "Rk;Name;Age;Tm;Lg;G;PA;AB;R;H;2B;3B;HR;RBI;SB;CS;BB;SO;BA;OBP;SLG;OPS;OPS+;TB;GDP;HBP;SH;SF;IBB: string\n",
       "-- schema metadata --\n",
       "metadata: '{'data_type': '2 = ข้อมูลสถิติ', 'title'' + 1261\n",
       "dictionary: '{'Rk': 'Rank', 'Name': 'Player name', 'Age': \"Player's age\",' + 767"
      ]
     },
     "execution_count": 63,
     "metadata": {},
     "output_type": "execute_result"
    }
   ],
   "source": [
    "MLB_Batting_stats_df = pd.read_csv(r'C:\\Users\\ernie\\Desktop\\314 file\\2022_MLB\\Batting.csv',encoding='latin-1')\n",
    "\n",
    "\n",
    "#Metadata\n",
    "metadata = {\n",
    " 'data_type': '2 = ข้อมูลสถิติ',\n",
    " 'title': 'ชุดข้อมูลสถิติทางการเล่นเบสบอลในระดับเมเจอร์ลีกเบสบอลอเมริกัน(MLB)ในปี 2022',\n",
    " 'owner_org': 'Sports-Reference',\n",
    " 'maintainer': ' Baseball-Reference',\n",
    " 'maintainer_email': 'sf@sports-reference.com',\n",
    " 'tag_string': 'Rk,Name,TM,TB',\n",
    " 'notes': 'ข้อมูลสถิติการเล่นเบสบอลของแต่ละผู้เล่นในระดับเมเจอร์ลีกเบสบอลอเมริกัน(MLB)',\n",
    " 'objective': '99 = อื่น ๆเพื่อวิเคราะห์ผู้เล่นเบสบอลในการหาปัจจัยสำคัญที่ทำให้มีโอกาสชนะมากขึ้น',\n",
    " 'update_frequency_unit': 'X = ไม่มีการปรับเปลี่ยนหลังจากปี 2022',\n",
    " 'update_frequency_interval': '1',\n",
    " 'geo_coverage': '02 = ทวีป / กลุ่มประเทศในทวีป',\n",
    " 'data_source':'Baseball Refernce',\n",
    " 'data_format':'99 = Parquet',\n",
    " 'data_category':'1 = ข้อมูลสาธารณะ',\n",
    " 'license_id':'1=Creative Commons Attributions'\n",
    "}\n",
    "data_dictionary = {\n",
    "    'Rk': 'Rank',\n",
    "    'Name': 'Player name',\n",
    "    'Age': \"Player's age\",\n",
    "    'Tm': 'Team',\n",
    "    'Lg': 'League',\n",
    "    'G': 'Games played',\n",
    "    'PA': 'Plate appearances',\n",
    "    'AB': 'At bats',\n",
    "    'R': 'Runs scored/allowed',\n",
    "    'H': 'Hits/hits allowed',\n",
    "    '2B': 'Doubles hit/allowed',\n",
    "    '3B': 'Triples hit/allowed',\n",
    "    'HR': 'Home runs hit/allowed',\n",
    "    'RBI': 'Runs batted in',\n",
    "    'SB': 'Stolen bases',\n",
    "    'CS': 'Caught stealing',\n",
    "    'BB': 'Bases on balls/walks',\n",
    "    'SO': 'Strikeouts',\n",
    "    'BA': 'Hits/at bats',\n",
    "    'OBP': '(H + BB + HBP) / (AB + BB + HBP + SF)',\n",
    "    'SLG': 'Total bases/at bats or (1B + 2 * 2B + 3 * 3B + 4 * HR) / AB',\n",
    "    'OPS': 'On-base + Slugging percentages',\n",
    "    'OPS+': '100 * (OBP / logOBP + SLG / logSLG - 1)',\n",
    "    'TB': 'Total bases',\n",
    "    'GDP': 'Double plays grounded into',\n",
    "    'HBP': 'Times hit by a pitch',\n",
    "    'SH': 'Sacrifice hits',\n",
    "    'SF': 'Sacrifice flies',\n",
    "    'IBB': 'Intentional bases on balls'\n",
    "}\n",
    "\n",
    "\n",
    "# Convert DataFrame to PyArrow Table with metadata\n",
    "table3 = pa.Table.from_pandas(MLB_Batting_stats_df)\n",
    "table3 = table3.replace_schema_metadata({'metadata': str(metadata), 'dictionary': str(data_dictionary)})\n",
    "\n",
    "table3.schema"
   ]
  },
  {
   "cell_type": "code",
   "execution_count": 67,
   "id": "3886088c",
   "metadata": {},
   "outputs": [
    {
     "name": "stdout",
     "output_type": "stream",
     "text": [
      "Metadata: {'data_type': '2 = ข้อมูลสถิติ', 'title': 'ชุดข้อมูลสถิติทางการเล่นเบสบอลในระดับเมเจอร์ลีกเบสบอลอเมริกัน(MLB)ในปี 2022', 'owner_org': 'Sports-Reference', 'maintainer': ' Baseball-Reference', 'maintainer_email': 'sf@sports-reference.com', 'tag_string': 'Rk,Name,TM,TB', 'notes': 'ข้อมูลสถิติการเล่นเบสบอลของแต่ละผู้เล่นในระดับเมเจอร์ลีกเบสบอลอเมริกัน(MLB)', 'objective': '99 = อื่น ๆเพื่อวิเคราะห์ผู้เล่นเบสบอลในการหาปัจจัยสำคัญที่ทำให้มีโอกาสชนะมากขึ้น', 'update_frequency_unit': 'X = ไม่มีการปรับเปลี่ยนหลังจากปี 2022', 'update_frequency_interval': '1', 'geo_coverage': '02 = ทวีป / กลุ่มประเทศในทวีป', 'data_source': 'Baseball Refernce', 'data_format': '99 = Parquet', 'data_category': '1 = ข้อมูลสาธารณะ', 'license_id': '1=Creative Commons Attributions'}\n",
      "Data Dictionary: {'Rk': 'Rank', 'Name': 'Player name', 'Age': \"Player's age\", 'Tm': 'Team', 'Lg': 'League', 'G': 'Games played', 'PA': 'Plate appearances', 'AB': 'At bats', 'R': 'Runs scored/allowed', 'H': 'Hits/hits allowed', '2B': 'Doubles hit/allowed', '3B': 'Triples hit/allowed', 'HR': 'Home runs hit/allowed', 'RBI': 'Runs batted in', 'SB': 'Stolen bases', 'CS': 'Caught stealing', 'BB': 'Bases on balls/walks', 'SO': 'Strikeouts', 'BA': 'Hits/at bats', 'OBP': '(H + BB + HBP) / (AB + BB + HBP + SF)', 'SLG': 'Total bases/at bats or (1B + 2 * 2B + 3 * 3B + 4 * HR) / AB', 'OPS': 'On-base + Slugging percentages', 'OPS+': '100 * (OBP / logOBP + SLG / logSLG - 1)', 'TB': 'Total bases', 'GDP': 'Double plays grounded into', 'HBP': 'Times hit by a pitch', 'SH': 'Sacrifice hits', 'SF': 'Sacrifice flies', 'IBB': 'Intentional bases on balls'}\n"
     ]
    }
   ],
   "source": [
    "# Extracting metadata and data dictionary\n",
    "metadata = eval(table3.schema.metadata[b'metadata']) if b'metadata' in table3.schema.metadata else None\n",
    "data_dictionary = eval(table3.schema.metadata[b'dictionary']) if b'dictionary' in table3.schema.metadata else None\n",
    "\n",
    "# Display the DataFrame, Metadata, and Data Dictionary\n",
    "print(\"Metadata:\", metadata)\n",
    "print(\"Data Dictionary:\", data_dictionary)"
   ]
  },
  {
   "cell_type": "code",
   "execution_count": 68,
   "id": "49bb4bcf",
   "metadata": {
    "scrolled": true
   },
   "outputs": [
    {
     "name": "stdout",
     "output_type": "stream",
     "text": [
      "└── 2022_MLB_Batting.parquet\n"
     ]
    }
   ],
   "source": [
    "#Write to GCS\n",
    "catalog_path = 'gcs://dsi310_bucket/group02/2023-12-14/'\n",
    "with fs.open(path=catalog_path+'2022_MLB_Batting.parquet',mode='wb') as f: \n",
    "    pq.write_table(table3, f)\n",
    "    \n",
    "tree(fs,catalog_path)\n"
   ]
  },
  {
   "cell_type": "markdown",
   "id": "cd591402",
   "metadata": {},
   "source": [
    "## Upload time"
   ]
  },
  {
   "cell_type": "code",
   "execution_count": 56,
   "id": "5dbb5d08",
   "metadata": {},
   "outputs": [
    {
     "name": "stdout",
     "output_type": "stream",
     "text": [
      "File group02/2023-12-14/2022_MLB_Batting.parquet was uploaded at 2023-12-18T18:19:56.031000+00:00\n"
     ]
    }
   ],
   "source": [
    "from google.cloud import storage\n",
    "from datetime import datetime\n",
    "\n",
    "def get_upload_timestamp(bucket_name, blob_name, token_path):\n",
    "    \"\"\"Retrieves the upload timestamp of a file in a GCS bucket.\"\"\"\n",
    "    # Authenticate using the token file\n",
    "    storage_client = storage.Client.from_service_account_json(token_path)\n",
    "    bucket = storage_client.bucket(bucket_name)\n",
    "    blob = bucket.get_blob(blob_name)\n",
    "\n",
    "    if blob:\n",
    "        # Convert the timestamp to a readable format (ISO 8601)\n",
    "        upload_timestamp = blob.time_created.isoformat()\n",
    "        print(f\"File {blob_name} was uploaded at {upload_timestamp}\")\n",
    "    else:\n",
    "        print(f\"File {blob_name} not found in bucket {bucket_name}.\")\n",
    "\n",
    "# Replace these with your actual values\n",
    "gcs_token_path = 'teacher-dsi310-2023.json'  # Path to your service account JSON file\n",
    "bucket_name = 'dsi310_bucket'  # Your GCS bucket name\n",
    "blob_name = 'group02/2023-12-14/2022_MLB_Batting.parquet'  # Name of the file in GCS\n",
    "\n",
    "get_upload_timestamp(bucket_name, blob_name, gcs_token_path)\n"
   ]
  },
  {
   "cell_type": "markdown",
   "id": "d7822e73",
   "metadata": {},
   "source": [
    "## Data set2"
   ]
  },
  {
   "cell_type": "code",
   "execution_count": 75,
   "id": "45d92898",
   "metadata": {},
   "outputs": [
    {
     "data": {
      "text/plain": [
       "Rk;Name;Age;Tm;Lg;W;L;W-L%;ERA;G;GS;GF;CG;SHO;SV;IP;H;R;ER;HR;BB;IBB;SO;HBP;BK;WP;BF;ERA+;FIP;WHIP;H9;HR9;BB9;SO9;SO/W: string\n",
       "-- schema metadata --\n",
       "metadata: '{'data_type': '2 = ข้อมูลสถิติ', 'title'' + 1259\n",
       "dictionary: '{'Rk': 'Rank', 'Name': 'Player name', 'Age': \"Player's age\",' + 819"
      ]
     },
     "execution_count": 75,
     "metadata": {},
     "output_type": "execute_result"
    }
   ],
   "source": [
    "MLB_Pitching_stats_df = pd.read_csv(r'C:\\Users\\ernie\\Desktop\\314 file\\2022_MLB\\Pitching.csv',encoding='latin-1')\n",
    "\n",
    "\n",
    "#Metadata\n",
    "metadata = {\n",
    " 'data_type': '2 = ข้อมูลสถิติ',\n",
    " 'title': 'ชุดข้อมูลสถิติทางการเล่นเบสบอลในระดับเมเจอร์ลีกเบสบอลอเมริกัน(MLB)ในปี 2022',\n",
    " 'owner_org': 'Sports-Reference',\n",
    " 'maintainer': ' Baseball-Reference',\n",
    " 'maintainer_email': 'sf@sports-reference.com',\n",
    " 'tag_string': 'Rk,Name,W,L',\n",
    " 'notes': 'ข้อมูลสถิติการเล่นเบสบอลของแต่ละผู้เล่นในระดับเมเจอร์ลีกเบสบอลอเมริกัน(MLB)',\n",
    " 'objective': '99 = อื่น ๆเพื่อวิเคราะห์ผู้เล่นเบสบอลในการหาปัจจัยสำคัญที่ทำให้มีโอกาสชนะมากขึ้น',\n",
    " 'update_frequency_unit': 'X = ไม่มีการปรับเปลี่ยนหลังจากปี 2022',\n",
    " 'update_frequency_interval': '1',\n",
    " 'geo_coverage': '02 = ทวีป / กลุ่มประเทศในทวีป',\n",
    " 'data_source':'Baseball Refernce',\n",
    " 'data_format':'99 = Parquet',\n",
    " 'data_category':'1 = ข้อมูลสาธารณะ',\n",
    " 'license_id':'1=Creative Commons Attributions'\n",
    "}\n",
    "data_dictionary = {\n",
    "    'Rk': 'Rank',\n",
    "    'Name': 'Player name',\n",
    "    'Age': \"Player's age\",\n",
    "    'Tm': 'Team',\n",
    "    'Lg': 'League',\n",
    "    'W': 'Wins',\n",
    "    'L': 'Losses',\n",
    "    'W-L%': 'Win-Loss percentage',\n",
    "    'ERA': '9 * ER / IP',\n",
    "    'G': 'Games played',\n",
    "    'GS': 'Games started',\n",
    "    'GF': 'Games finished',\n",
    "    'CG': 'Complete game',\n",
    "    'SHO': 'Shutouts',\n",
    "    'SV': 'Saves',\n",
    "    'IP': 'Innings pitched',\n",
    "    'H': 'Hits/Hits allowed',\n",
    "    'R': 'Runs scored/allowed',\n",
    "    'ER': 'Earned runs allowed',\n",
    "    'HR': 'Home runs hit/allowed',\n",
    "    'BB': 'Bases on balls/walks',\n",
    "    'IBB': 'Intentional bases on balls',\n",
    "    'SO': 'Strikeouts',\n",
    "    'HBP': 'Times hit by a pitch',\n",
    "    'BK': 'Balks',\n",
    "    'WP': 'Wild pitches',\n",
    "    'BF': 'Batters faced',\n",
    "    'ERA+': '100 * (logERA/ERA)',\n",
    "    'FIP': 'Fielding independent pitching. Measures a pitcher\\'s effectiveness at HR, BB, HBP and causing SO.',\n",
    "    'WHIP': '(BB + H) / IP',\n",
    "    'H9': '9 * H / IP',\n",
    "    'HR9': '9 * HR / IP',\n",
    "    'BB9': '9 * BB / IP',\n",
    "    'SO9': '9 * SO / IP',\n",
    "    'SO/W': 'SO / W'\n",
    "}\n",
    "\n",
    "\n",
    "\n",
    "# Convert DataFrame to PyArrow Table with metadata\n",
    "table4 = pa.Table.from_pandas(MLB_Pitching_stats_df)\n",
    "table4 = table4.replace_schema_metadata({'metadata': str(metadata), 'dictionary': str(data_dictionary)})\n",
    "\n",
    "table4.schema"
   ]
  },
  {
   "cell_type": "code",
   "execution_count": 76,
   "id": "49f31cce",
   "metadata": {},
   "outputs": [
    {
     "name": "stdout",
     "output_type": "stream",
     "text": [
      "Metadata: {'data_type': '2 = ข้อมูลสถิติ', 'title': 'ชุดข้อมูลสถิติทางการเล่นเบสบอลในระดับเมเจอร์ลีกเบสบอลอเมริกัน(MLB)ในปี 2022', 'owner_org': 'Sports-Reference', 'maintainer': ' Baseball-Reference', 'maintainer_email': 'sf@sports-reference.com', 'tag_string': 'Rk,Name,W,L', 'notes': 'ข้อมูลสถิติการเล่นเบสบอลของแต่ละผู้เล่นในระดับเมเจอร์ลีกเบสบอลอเมริกัน(MLB)', 'objective': '99 = อื่น ๆเพื่อวิเคราะห์ผู้เล่นเบสบอลในการหาปัจจัยสำคัญที่ทำให้มีโอกาสชนะมากขึ้น', 'update_frequency_unit': 'X = ไม่มีการปรับเปลี่ยนหลังจากปี 2022', 'update_frequency_interval': '1', 'geo_coverage': '02 = ทวีป / กลุ่มประเทศในทวีป', 'data_source': 'Baseball Refernce', 'data_format': '99 = Parquet', 'data_category': '1 = ข้อมูลสาธารณะ', 'license_id': '1=Creative Commons Attributions'}\n",
      "Data Dictionary: {'Rk': 'Rank', 'Name': 'Player name', 'Age': \"Player's age\", 'Tm': 'Team', 'Lg': 'League', 'W': 'Wins', 'L': 'Losses', 'W-L%': 'Win-Loss percentage', 'ERA': '9 * ER / IP', 'G': 'Games played', 'GS': 'Games started', 'GF': 'Games finished', 'CG': 'Complete game', 'SHO': 'Shutouts', 'SV': 'Saves', 'IP': 'Innings pitched', 'H': 'Hits/Hits allowed', 'R': 'Runs scored/allowed', 'ER': 'Earned runs allowed', 'HR': 'Home runs hit/allowed', 'BB': 'Bases on balls/walks', 'IBB': 'Intentional bases on balls', 'SO': 'Strikeouts', 'HBP': 'Times hit by a pitch', 'BK': 'Balks', 'WP': 'Wild pitches', 'BF': 'Batters faced', 'ERA+': '100 * (logERA/ERA)', 'FIP': \"Fielding independent pitching. Measures a pitcher's effectiveness at HR, BB, HBP and causing SO.\", 'WHIP': '(BB + H) / IP', 'H9': '9 * H / IP', 'HR9': '9 * HR / IP', 'BB9': '9 * BB / IP', 'SO9': '9 * SO / IP', 'SO/W': 'SO / W'}\n"
     ]
    }
   ],
   "source": [
    "# Extracting metadata and data dictionary\n",
    "metadata = eval(table4.schema.metadata[b'metadata']) if b'metadata' in table4.schema.metadata else None\n",
    "data_dictionary = eval(table4.schema.metadata[b'dictionary']) if b'dictionary' in table4.schema.metadata else None\n",
    "\n",
    "# Display the DataFrame, Metadata, and Data Dictionary\n",
    "print(\"Metadata:\", metadata)\n",
    "print(\"Data Dictionary:\", data_dictionary)"
   ]
  },
  {
   "cell_type": "code",
   "execution_count": 82,
   "id": "e5bb574b",
   "metadata": {},
   "outputs": [
    {
     "name": "stdout",
     "output_type": "stream",
     "text": [
      "├── 2022_MLB_Batting.parquet\n",
      "├── 2022_MLB_Pitching.parquet\n",
      "└── Prospect.parquet\n"
     ]
    }
   ],
   "source": [
    "#Write to GCS\n",
    "catalog_path = 'gcs://dsi310_bucket/group02/2023-12-14/'\n",
    "with fs.open(path=catalog_path+'2022_MLB_Pitching.parquet',mode='wb') as f: \n",
    "    pq.write_table(table4, f)\n",
    "    \n",
    "tree(fs,catalog_path)"
   ]
  },
  {
   "cell_type": "markdown",
   "id": "05dd6b54",
   "metadata": {},
   "source": [
    "## Upload time"
   ]
  },
  {
   "cell_type": "code",
   "execution_count": 57,
   "id": "0a003f52",
   "metadata": {},
   "outputs": [
    {
     "name": "stdout",
     "output_type": "stream",
     "text": [
      "File group02/2023-12-14/2022_MLB_Pitching.parquet was uploaded at 2023-12-18T18:55:42.621000+00:00\n"
     ]
    }
   ],
   "source": [
    "from google.cloud import storage\n",
    "from datetime import datetime\n",
    "\n",
    "def get_upload_timestamp(bucket_name, blob_name, token_path):\n",
    "    \"\"\"Retrieves the upload timestamp of a file in a GCS bucket.\"\"\"\n",
    "    # Authenticate using the token file\n",
    "    storage_client = storage.Client.from_service_account_json(token_path)\n",
    "    bucket = storage_client.bucket(bucket_name)\n",
    "    blob = bucket.get_blob(blob_name)\n",
    "\n",
    "    if blob:\n",
    "        # Convert the timestamp to a readable format (ISO 8601)\n",
    "        upload_timestamp = blob.time_created.isoformat()\n",
    "        print(f\"File {blob_name} was uploaded at {upload_timestamp}\")\n",
    "    else:\n",
    "        print(f\"File {blob_name} not found in bucket {bucket_name}.\")\n",
    "\n",
    "# Replace these with your actual values\n",
    "gcs_token_path = 'teacher-dsi310-2023.json'  # Path to your service account JSON file\n",
    "bucket_name = 'dsi310_bucket'  # Your GCS bucket name\n",
    "blob_name = 'group02/2023-12-14/2022_MLB_Pitching.parquet'  # Name of the file in GCS\n",
    "\n",
    "get_upload_timestamp(bucket_name, blob_name, gcs_token_path)\n"
   ]
  },
  {
   "cell_type": "markdown",
   "id": "0ff363fd",
   "metadata": {},
   "source": [
    "## Data set3"
   ]
  },
  {
   "cell_type": "code",
   "execution_count": 78,
   "id": "2e667ca9",
   "metadata": {},
   "outputs": [
    {
     "data": {
      "text/plain": [
       "rank: int64\n",
       "team: string\n",
       "age: int64\n",
       "teamId: double\n",
       "full_name: string\n",
       "playerId: int64\n",
       "atBats: int64\n",
       "runs: int64\n",
       "hits: int64\n",
       "doubles: int64\n",
       "triples: int64\n",
       "homeRuns: int64\n",
       "obp: double\n",
       "ops: double\n",
       "slg: double\n",
       "rbi: int64\n",
       "baseOnBalls: int64\n",
       "strikeOuts: int64\n",
       "stolenBases: int64\n",
       "caughtStealing: int64\n",
       "leftOnBase: int64\n",
       "totalBases: int64\n",
       "avg: double\n",
       "position: string\n",
       "sportAbbrev: string\n",
       "-- schema metadata --\n",
       "metadata: '{'data_type': '2 = ข้อมูลสถิติ', 'title'' + 1206\n",
       "dictionary: '{'Rk': 'Rank of the player among prospects', 'Name': 'Name o' + 610"
      ]
     },
     "execution_count": 78,
     "metadata": {},
     "output_type": "execute_result"
    }
   ],
   "source": [
    "Prospect_stats_df = pd.read_csv(r'C:\\Users\\ernie\\Desktop\\314 file\\prospects.csv',encoding='latin-1')\n",
    "\n",
    "\n",
    "#Metadata\n",
    "metadata = {\n",
    " 'data_type': '2 = ข้อมูลสถิติ',\n",
    " 'title': 'ชุดข้อมูลสถิติทางการเล่นเบสบอลในระดับเมเจอร์ลีกเบสบอลอเมริกัน(MLB)',\n",
    " 'owner_org': 'Major League Baseball (MLB)',\n",
    " 'maintainer': ' Major League Baseball Advanced Media (MLBAM)',\n",
    " 'maintainer_email': 'dataprivacy@mlb.com',\n",
    " 'tag_string': 'Top Prospect Batters',\n",
    " 'notes': 'ข้อมูลสถิติการเล่นเบสบอลของแต่ละผู้เล่นในระดับเมเจอร์ลีกเบสบอลอเมริกัน(MLB)',\n",
    " 'objective': '99 = อื่น ๆเพื่อวิเคราะห์ผู้เล่นเบสบอลในการหาปัจจัยสำคัญที่ทำให้มีโอกาสชนะมากขึ้น',\n",
    " 'update_frequency_unit': 'A = ปี',\n",
    " 'update_frequency_interval': '1',\n",
    " 'geo_coverage': '02 = ทวีป / กลุ่มประเทศในทวีป',\n",
    " 'data_source':'Major League Baseball (MLB)',\n",
    " 'data_format':'99 = Parquet',\n",
    " 'data_category':'1 = ข้อมูลสาธารณะ',\n",
    " 'license_id':'98 = License not specified'\n",
    "}\n",
    "data_dictionary = {\n",
    "    'Rk': 'Rank of the player among prospects',\n",
    "    'Name': 'Name of the player',\n",
    "    'Age': 'Age of the player',\n",
    "    'Tm': 'Team the player belongs to',\n",
    "    'Lg': 'League in which the team plays',\n",
    "    'PA': 'Plate Appearances',\n",
    "    'AB': 'At Bats',\n",
    "    'R': 'Runs scored',\n",
    "    'H': 'Hits',\n",
    "    '2B': 'Doubles',\n",
    "    '3B': 'Triples',\n",
    "    'HR': 'Home Runs',\n",
    "    'TB': 'Total Bases',\n",
    "    'RBI': 'Runs Batted In',\n",
    "    'BB': 'Base on Balls',\n",
    "    'SO': 'Strikeouts',\n",
    "    'SB': 'Stolen Bases',\n",
    "    'CS': 'Caught Stealing',\n",
    "    'LOB': 'Left On Base',\n",
    "    'HR%': 'Home Run Percentage',\n",
    "    'BB%': 'Walk Percentage',\n",
    "    'K%': 'Strikeout Percentage',\n",
    "    'AVG': 'Batting Average',\n",
    "    'OBP': 'On-base Percentage',\n",
    "    'SLG': 'Slugging Percentage',\n",
    "    'OPS': 'On-base Plus Slugging'\n",
    "}\n",
    "\n",
    "\n",
    "\n",
    "# Convert DataFrame to PyArrow Table with metadata\n",
    "table5 = pa.Table.from_pandas(Prospect_stats_df)\n",
    "table5 = table5.replace_schema_metadata({'metadata': str(metadata), 'dictionary': str(data_dictionary)})\n",
    "\n",
    "table5.schema"
   ]
  },
  {
   "cell_type": "code",
   "execution_count": 79,
   "id": "85e0314c",
   "metadata": {},
   "outputs": [
    {
     "name": "stdout",
     "output_type": "stream",
     "text": [
      "Metadata: {'data_type': '2 = ข้อมูลสถิติ', 'title': 'ชุดข้อมูลสถิติทางการเล่นเบสบอลในระดับเมเจอร์ลีกเบสบอลอเมริกัน(MLB)', 'owner_org': 'Major League Baseball (MLB)', 'maintainer': ' Major League Baseball Advanced Media (MLBAM)', 'maintainer_email': 'dataprivacy@mlb.com', 'tag_string': 'Top Prospect Batters', 'notes': 'ข้อมูลสถิติการเล่นเบสบอลของแต่ละผู้เล่นในระดับเมเจอร์ลีกเบสบอลอเมริกัน(MLB)', 'objective': '99 = อื่น ๆเพื่อวิเคราะห์ผู้เล่นเบสบอลในการหาปัจจัยสำคัญที่ทำให้มีโอกาสชนะมากขึ้น', 'update_frequency_unit': 'A = ปี', 'update_frequency_interval': '1', 'geo_coverage': '02 = ทวีป / กลุ่มประเทศในทวีป', 'data_source': 'Major League Baseball (MLB)', 'data_format': '99 = Parquet', 'data_category': '1 = ข้อมูลสาธารณะ', 'license_id': '98 = License not specified'}\n",
      "Data Dictionary: {'Rk': 'Rank of the player among prospects', 'Name': 'Name of the player', 'Age': 'Age of the player', 'Tm': 'Team the player belongs to', 'Lg': 'League in which the team plays', 'PA': 'Plate Appearances', 'AB': 'At Bats', 'R': 'Runs scored', 'H': 'Hits', '2B': 'Doubles', '3B': 'Triples', 'HR': 'Home Runs', 'TB': 'Total Bases', 'RBI': 'Runs Batted In', 'BB': 'Base on Balls', 'SO': 'Strikeouts', 'SB': 'Stolen Bases', 'CS': 'Caught Stealing', 'LOB': 'Left On Base', 'HR%': 'Home Run Percentage', 'BB%': 'Walk Percentage', 'K%': 'Strikeout Percentage', 'AVG': 'Batting Average', 'OBP': 'On-base Percentage', 'SLG': 'Slugging Percentage', 'OPS': 'On-base Plus Slugging'}\n"
     ]
    }
   ],
   "source": [
    "# Extracting metadata and data dictionary\n",
    "metadata = eval(table5.schema.metadata[b'metadata']) if b'metadata' in table5.schema.metadata else None\n",
    "data_dictionary = eval(table5.schema.metadata[b'dictionary']) if b'dictionary' in table5.schema.metadata else None\n",
    "\n",
    "# Display the DataFrame, Metadata, and Data Dictionary\n",
    "print(\"Metadata:\", metadata)\n",
    "print(\"Data Dictionary:\", data_dictionary)"
   ]
  },
  {
   "cell_type": "code",
   "execution_count": 81,
   "id": "8e54b496",
   "metadata": {},
   "outputs": [
    {
     "name": "stdout",
     "output_type": "stream",
     "text": [
      "├── 2022_MLB_Batting.parquet\n",
      "├── 2022_MLB_Pitching.parquet\n",
      "└── Prospect.parquet\n"
     ]
    }
   ],
   "source": [
    "#Write to GCS\n",
    "catalog_path = 'gcs://dsi310_bucket/group02/2023-12-14/'\n",
    "with fs.open(path=catalog_path+'Prospect.parquet',mode='wb') as f: \n",
    "    pq.write_table(table5, f)\n",
    "    \n",
    "tree(fs,catalog_path)"
   ]
  },
  {
   "cell_type": "markdown",
   "id": "90a777e1",
   "metadata": {},
   "source": [
    "## Upload time"
   ]
  },
  {
   "cell_type": "code",
   "execution_count": 58,
   "id": "0c12a568",
   "metadata": {},
   "outputs": [
    {
     "name": "stdout",
     "output_type": "stream",
     "text": [
      "File group02/2023-12-14/Prospect.parquet was uploaded at 2023-12-18T18:55:29.699000+00:00\n"
     ]
    }
   ],
   "source": [
    "from google.cloud import storage\n",
    "from datetime import datetime\n",
    "\n",
    "def get_upload_timestamp(bucket_name, blob_name, token_path):\n",
    "    \"\"\"Retrieves the upload timestamp of a file in a GCS bucket.\"\"\"\n",
    "    # Authenticate using the token file\n",
    "    storage_client = storage.Client.from_service_account_json(token_path)\n",
    "    bucket = storage_client.bucket(bucket_name)\n",
    "    blob = bucket.get_blob(blob_name)\n",
    "\n",
    "    if blob:\n",
    "        # Convert the timestamp to a readable format (ISO 8601)\n",
    "        upload_timestamp = blob.time_created.isoformat()\n",
    "        print(f\"File {blob_name} was uploaded at {upload_timestamp}\")\n",
    "    else:\n",
    "        print(f\"File {blob_name} not found in bucket {bucket_name}.\")\n",
    "\n",
    "# Replace these with your actual values\n",
    "gcs_token_path = 'teacher-dsi310-2023.json'  # Path to your service account JSON file\n",
    "bucket_name = 'dsi310_bucket'  # Your GCS bucket name\n",
    "blob_name = 'group02/2023-12-14/Prospect.parquet'  # Name of the file in GCS\n",
    "\n",
    "get_upload_timestamp(bucket_name, blob_name, gcs_token_path)\n"
   ]
  },
  {
   "cell_type": "markdown",
   "id": "40ce2957",
   "metadata": {},
   "source": [
    "## Data set4"
   ]
  },
  {
   "cell_type": "code",
   "execution_count": 83,
   "id": "58d5b461",
   "metadata": {},
   "outputs": [
    {
     "data": {
      "text/plain": [
       "Rk.: int64\n",
       "Player: string\n",
       "Pitches: int64\n",
       "Total: int64\n",
       "Pitch %: double\n",
       "PA: int64\n",
       "BIP: int64\n",
       "Hits: int64\n",
       "3B: int64\n",
       "HR: int64\n",
       "SO: int64\n",
       "K%: double\n",
       "BB: int64\n",
       "BB%: double\n",
       "BA: double\n",
       "xBA: double\n",
       "OBP: double\n",
       "xOBP: double\n",
       "SLG: double\n",
       "xSLG: double\n",
       "wOBA: double\n",
       "xwOBA: double\n",
       "Barrels: int64\n",
       "ISO: double\n",
       "Batter Run Value: double\n",
       "Pitcher Run Value: double\n",
       "Pitch (MPH): double\n",
       "Spin (RPM): int64\n",
       "Downward Movement w/ Gravity (in): double\n",
       "Glove/Arm-Side Movement (in): double\n",
       "Vertical Movement w/o Gravity (in): double\n",
       "Movement Toward/Away from Batter (in): double\n",
       "EV (MPH): double\n",
       "LA (°): double\n",
       "Dist (ft): int64\n",
       "Hard Hit%: double\n",
       "Barrel/BBE%: double\n",
       "Barrel/PA%: double\n",
       "-- schema metadata --\n",
       "metadata: '{'data_type': '2 = ข้อมูลสถิติ', 'title'' + 1200\n",
       "dictionary: '{'Rk.': 'Rank', 'Player': 'Player Name', 'Pitches': 'Total N' + 1800"
      ]
     },
     "execution_count": 83,
     "metadata": {},
     "output_type": "execute_result"
    }
   ],
   "source": [
    "Batter_stats_df = pd.read_excel(r'C:\\Users\\ernie\\Desktop\\314 file\\main pj\\batter stats.xlsx')\n",
    "\n",
    "\n",
    "#Metadata\n",
    "metadata = {\n",
    " 'data_type': '2 = ข้อมูลสถิติ',\n",
    " 'title': 'ชุดข้อมูลสถิติทางการเล่นเบสบอลในระดับเมเจอร์ลีกเบสบอลอเมริกัน(MLB)',\n",
    " 'owner_org': 'Major League Baseball (MLB)',\n",
    " 'maintainer': ' Major League Baseball Advanced Media (MLBAM)',\n",
    " 'maintainer_email': 'mlbnviewerfeedback@mlb.com',\n",
    " 'tag_string': 'Batters',\n",
    " 'notes': 'ข้อมูลสถิติการเล่นเบสบอลของแต่ละผู้เล่นในระดับเมเจอร์ลีกเบสบอลอเมริกัน(MLB)',\n",
    " 'objective': '99 = อื่น ๆเพื่อวิเคราะห์ผู้เล่นเบสบอลในการหาปัจจัยสำคัญที่ทำให้มีโอกาสชนะมากขึ้น',\n",
    " 'update_frequency_unit': 'A = ปี',\n",
    " 'update_frequency_interval': '1',\n",
    " 'geo_coverage': '02 = ทวีป / กลุ่มประเทศในทวีป',\n",
    " 'data_source':'Major League Baseball (MLB)',\n",
    " 'data_format':'99 = Parquet',\n",
    " 'data_category':'1 = ข้อมูลสาธารณะ',\n",
    " 'license_id':'98 = License not specified'\n",
    "}\n",
    "data_dictionary = {\n",
    "    'Rk.': 'Rank',\n",
    "    'Player': 'Player Name',\n",
    "    'Pitches': 'Total Number of Pitches Faced',\n",
    "    'Total': 'Total Number of (Specific Statistic)',\n",
    "    'Pitch %': 'Percentage of Total Pitches',\n",
    "    'PA': 'Plate Appearances',\n",
    "    'BIP': 'Balls in Play',\n",
    "    'Hits': 'Number of Hits',\n",
    "    '3B': 'Triples',\n",
    "    'HR': 'Home Runs',\n",
    "    'K': 'Strikeouts',\n",
    "    'BB': 'Base on Balls/Walks',\n",
    "    'HBP': 'Hit By Pitch',\n",
    "    'SF': 'Sacrifice Flies',\n",
    "    'SH': 'Sacrifice Hits/Bunts',\n",
    "    'XBH': 'Extra-Base Hits',\n",
    "    'GB/FB': 'Ground Ball/Fly Ball Ratio',\n",
    "    'LD%': 'Line Drive Percentage',\n",
    "    'GB%': 'Ground Ball Percentage',\n",
    "    'FB%': 'Fly Ball Percentage',\n",
    "    'IFFB%': 'Infield Fly Ball Percentage',\n",
    "    'HR/FB': 'Home Runs per Fly Ball Ratio',\n",
    "    'O-Swing%': 'Swing Percentage at Pitches Outside the Strike Zone',\n",
    "    'Z-Swing%': 'Swing Percentage at Pitches Inside the Strike Zone',\n",
    "    'Swing%': 'Overall Swing Percentage',\n",
    "    'O-Contact%': 'Contact Rate on Pitches Outside the Strike Zone',\n",
    "    'Z-Contact%': 'Contact Rate on Pitches Inside the Strike Zone',\n",
    "    'Contact%': 'Overall Contact Rate',\n",
    "    'Zone%': 'Percentage of Pitches in the Strike Zone',\n",
    "    'F-Strike%': 'First-Pitch Strike Percentage',\n",
    "    'SwStr%': 'Swinging Strike Percentage',\n",
    "    'Downward Movement w/ Gravity (in)': 'Downward Movement of the Pitch with Gravity in Inches',\n",
    "    'Glove/Arm-Side Movement (in)': 'Lateral Movement of the Pitch Toward the Glove/Arm Side in Inches',\n",
    "    'Vertical Movement w/o Gravity (in)': 'Vertical Movement of the Pitch without Gravity in Inches',\n",
    "    'Movement Toward/Away from Batter (in)': 'Horizontal Movement of the Pitch Toward or Away from the Batter in Inches',\n",
    "    'EV (MPH)': 'Exit Velocity in Miles Per Hour',\n",
    "    'LA (°)': 'Launch Angle in Degrees',\n",
    "    'Dist (ft)': 'Average Distance of Batted Balls in Feet',\n",
    "    'Hard Hit%': 'Percentage of Hard Hit Balls',\n",
    "    'Barrel/BBE%': 'Percentage of Barreled Balls per Balls in Play',\n",
    "    'Barrel/PA%': 'Percentage of Barreled Balls per Plate Appearance'\n",
    "}\n",
    "\n",
    "# Convert DataFrame to PyArrow Table with metadata\n",
    "table6 = pa.Table.from_pandas(Batter_stats_df)\n",
    "table6 = table6.replace_schema_metadata({'metadata': str(metadata), 'dictionary': str(data_dictionary)})\n",
    "\n",
    "table6.schema"
   ]
  },
  {
   "cell_type": "code",
   "execution_count": 84,
   "id": "935cf375",
   "metadata": {},
   "outputs": [
    {
     "name": "stdout",
     "output_type": "stream",
     "text": [
      "Metadata: {'data_type': '2 = ข้อมูลสถิติ', 'title': 'ชุดข้อมูลสถิติทางการเล่นเบสบอลในระดับเมเจอร์ลีกเบสบอลอเมริกัน(MLB)', 'owner_org': 'Major League Baseball (MLB)', 'maintainer': ' Major League Baseball Advanced Media (MLBAM)', 'maintainer_email': 'mlbnviewerfeedback@mlb.com', 'tag_string': 'Batters', 'notes': 'ข้อมูลสถิติการเล่นเบสบอลของแต่ละผู้เล่นในระดับเมเจอร์ลีกเบสบอลอเมริกัน(MLB)', 'objective': '99 = อื่น ๆเพื่อวิเคราะห์ผู้เล่นเบสบอลในการหาปัจจัยสำคัญที่ทำให้มีโอกาสชนะมากขึ้น', 'update_frequency_unit': 'A = ปี', 'update_frequency_interval': '1', 'geo_coverage': '02 = ทวีป / กลุ่มประเทศในทวีป', 'data_source': 'Major League Baseball (MLB)', 'data_format': '99 = Parquet', 'data_category': '1 = ข้อมูลสาธารณะ', 'license_id': '98 = License not specified'}\n",
      "Data Dictionary: {'Rk.': 'Rank', 'Player': 'Player Name', 'Pitches': 'Total Number of Pitches Faced', 'Total': 'Total Number of (Specific Statistic)', 'Pitch %': 'Percentage of Total Pitches', 'PA': 'Plate Appearances', 'BIP': 'Balls in Play', 'Hits': 'Number of Hits', '3B': 'Triples', 'HR': 'Home Runs', 'K': 'Strikeouts', 'BB': 'Base on Balls/Walks', 'HBP': 'Hit By Pitch', 'SF': 'Sacrifice Flies', 'SH': 'Sacrifice Hits/Bunts', 'XBH': 'Extra-Base Hits', 'GB/FB': 'Ground Ball/Fly Ball Ratio', 'LD%': 'Line Drive Percentage', 'GB%': 'Ground Ball Percentage', 'FB%': 'Fly Ball Percentage', 'IFFB%': 'Infield Fly Ball Percentage', 'HR/FB': 'Home Runs per Fly Ball Ratio', 'O-Swing%': 'Swing Percentage at Pitches Outside the Strike Zone', 'Z-Swing%': 'Swing Percentage at Pitches Inside the Strike Zone', 'Swing%': 'Overall Swing Percentage', 'O-Contact%': 'Contact Rate on Pitches Outside the Strike Zone', 'Z-Contact%': 'Contact Rate on Pitches Inside the Strike Zone', 'Contact%': 'Overall Contact Rate', 'Zone%': 'Percentage of Pitches in the Strike Zone', 'F-Strike%': 'First-Pitch Strike Percentage', 'SwStr%': 'Swinging Strike Percentage', 'Downward Movement w/ Gravity (in)': 'Downward Movement of the Pitch with Gravity in Inches', 'Glove/Arm-Side Movement (in)': 'Lateral Movement of the Pitch Toward the Glove/Arm Side in Inches', 'Vertical Movement w/o Gravity (in)': 'Vertical Movement of the Pitch without Gravity in Inches', 'Movement Toward/Away from Batter (in)': 'Horizontal Movement of the Pitch Toward or Away from the Batter in Inches', 'EV (MPH)': 'Exit Velocity in Miles Per Hour', 'LA (°)': 'Launch Angle in Degrees', 'Dist (ft)': 'Average Distance of Batted Balls in Feet', 'Hard Hit%': 'Percentage of Hard Hit Balls', 'Barrel/BBE%': 'Percentage of Barreled Balls per Balls in Play', 'Barrel/PA%': 'Percentage of Barreled Balls per Plate Appearance'}\n"
     ]
    }
   ],
   "source": [
    "# Extracting metadata and data dictionary\n",
    "metadata = eval(table6.schema.metadata[b'metadata']) if b'metadata' in table6.schema.metadata else None\n",
    "data_dictionary = eval(table6.schema.metadata[b'dictionary']) if b'dictionary' in table6.schema.metadata else None\n",
    "\n",
    "# Display the DataFrame, Metadata, and Data Dictionary\n",
    "print(\"Metadata:\", metadata)\n",
    "print(\"Data Dictionary:\", data_dictionary)"
   ]
  },
  {
   "cell_type": "code",
   "execution_count": 85,
   "id": "52476278",
   "metadata": {},
   "outputs": [
    {
     "name": "stdout",
     "output_type": "stream",
     "text": [
      "├── 2022_MLB_Batting.parquet\n",
      "├── 2022_MLB_Pitching.parquet\n",
      "├── Batter_stats.parquet\n",
      "└── Prospect.parquet\n"
     ]
    }
   ],
   "source": [
    "#Write to GCS\n",
    "catalog_path = 'gcs://dsi310_bucket/group02/2023-12-14/'\n",
    "with fs.open(path=catalog_path+'Batter_stats.parquet',mode='wb') as f: \n",
    "    pq.write_table(table6, f)\n",
    "    \n",
    "tree(fs,catalog_path)"
   ]
  },
  {
   "cell_type": "markdown",
   "id": "5eea79af",
   "metadata": {},
   "source": [
    "## Upload time"
   ]
  },
  {
   "cell_type": "code",
   "execution_count": 60,
   "id": "135bc422",
   "metadata": {},
   "outputs": [
    {
     "name": "stdout",
     "output_type": "stream",
     "text": [
      "File group02/2023-12-14/Batter_stats.parquet was uploaded at 2023-12-18T19:02:34.216000+00:00\n"
     ]
    }
   ],
   "source": [
    "from google.cloud import storage\n",
    "from datetime import datetime\n",
    "\n",
    "def get_upload_timestamp(bucket_name, blob_name, token_path):\n",
    "    \"\"\"Retrieves the upload timestamp of a file in a GCS bucket.\"\"\"\n",
    "    # Authenticate using the token file\n",
    "    storage_client = storage.Client.from_service_account_json(token_path)\n",
    "    bucket = storage_client.bucket(bucket_name)\n",
    "    blob = bucket.get_blob(blob_name)\n",
    "\n",
    "    if blob:\n",
    "        # Convert the timestamp to a readable format (ISO 8601)\n",
    "        upload_timestamp = blob.time_created.isoformat()\n",
    "        print(f\"File {blob_name} was uploaded at {upload_timestamp}\")\n",
    "    else:\n",
    "        print(f\"File {blob_name} not found in bucket {bucket_name}.\")\n",
    "\n",
    "# Replace these with your actual values\n",
    "gcs_token_path = 'teacher-dsi310-2023.json'  # Path to your service account JSON file\n",
    "bucket_name = 'dsi310_bucket'  # Your GCS bucket name\n",
    "blob_name = 'group02/2023-12-14/Batter_stats.parquet'  # Name of the file in GCS\n",
    "\n",
    "get_upload_timestamp(bucket_name, blob_name, gcs_token_path)\n"
   ]
  },
  {
   "cell_type": "markdown",
   "id": "1133e3a7",
   "metadata": {},
   "source": [
    "## Data set5"
   ]
  },
  {
   "cell_type": "code",
   "execution_count": 86,
   "id": "976bb447",
   "metadata": {},
   "outputs": [
    {
     "data": {
      "text/plain": [
       "Rk.: int64\n",
       "Player: string\n",
       "Pitches: int64\n",
       "Total: int64\n",
       "Pitch %: double\n",
       "PA: int64\n",
       "BIP: int64\n",
       "Hits: int64\n",
       "3B: int64\n",
       "HR: int64\n",
       "SO: int64\n",
       "K%: double\n",
       "BB: int64\n",
       "BB%: double\n",
       "BA: double\n",
       "xBA: double\n",
       "OBP: double\n",
       "xOBP: double\n",
       "SLG: double\n",
       "xSLG: double\n",
       "wOBA: double\n",
       "xwOBA: double\n",
       "Barrels: int64\n",
       "ISO: double\n",
       "Batter Run Value: double\n",
       "Pitcher Run Value: double\n",
       "Pitch (MPH): double\n",
       "Spin (RPM): int64\n",
       "Downward Movement w/ Gravity (in): double\n",
       "Glove/Arm-Side Movement (in): double\n",
       "Vertical Movement w/o Gravity (in): double\n",
       "Movement Toward/Away from Batter (in): double\n",
       "EV (MPH): double\n",
       "LA (°): double\n",
       "Dist (ft): int64\n",
       "Hard Hit%: double\n",
       "Barrel/BBE%: double\n",
       "Barrel/PA%: double\n",
       "-- schema metadata --\n",
       "metadata: '{'data_type': '2 = ข้อมูลสถิติ', 'title'' + 1200\n",
       "dictionary: '{'Rk.': 'Rank', 'Player': 'Player Name', 'Pitches': 'Total N' + 1800"
      ]
     },
     "execution_count": 86,
     "metadata": {},
     "output_type": "execute_result"
    }
   ],
   "source": [
    "Pitcher_stats_df = pd.read_excel(r'C:\\Users\\ernie\\Desktop\\314 file\\main pj\\pitcher stats.xlsx')\n",
    "\n",
    "\n",
    "#Metadata\n",
    "metadata = {\n",
    " 'data_type': '2 = ข้อมูลสถิติ',\n",
    " 'title': 'ชุดข้อมูลสถิติทางการเล่นเบสบอลในระดับเมเจอร์ลีกเบสบอลอเมริกัน(MLB)',\n",
    " 'owner_org': 'Major League Baseball (MLB)',\n",
    " 'maintainer': ' Major League Baseball Advanced Media (MLBAM)',\n",
    " 'maintainer_email': 'mlbnviewerfeedback@mlb.com',\n",
    " 'tag_string': 'Batters',\n",
    " 'notes': 'ข้อมูลสถิติการเล่นเบสบอลของแต่ละผู้เล่นในระดับเมเจอร์ลีกเบสบอลอเมริกัน(MLB)',\n",
    " 'objective': '99 = อื่น ๆเพื่อวิเคราะห์ผู้เล่นเบสบอลในการหาปัจจัยสำคัญที่ทำให้มีโอกาสชนะมากขึ้น',\n",
    " 'update_frequency_unit': 'A = ปี',\n",
    " 'update_frequency_interval': '1',\n",
    " 'geo_coverage': '02 = ทวีป / กลุ่มประเทศในทวีป',\n",
    " 'data_source':'Major League Baseball (MLB)',\n",
    " 'data_format':'99 = Parquet',\n",
    " 'data_category':'1 = ข้อมูลสาธารณะ',\n",
    " 'license_id':'98 = License not specified'\n",
    "}\n",
    "data_dictionary_pitcher = {\n",
    "    'Rk.': 'Rank',\n",
    "    'Player': 'Player Name',\n",
    "    'Pitches': 'Total Number of Pitches Thrown',\n",
    "    'Total': 'Total Number of (Specific Statistic)',\n",
    "    'Pitch %': 'Percentage of Total Pitches',\n",
    "    'PA': 'Plate Appearances Against',\n",
    "    'BIP': 'Balls in Play Against',\n",
    "    'Hits': 'Number of Hits Allowed',\n",
    "    '3B': 'Triples Allowed',\n",
    "    'HR': 'Home Runs Allowed',\n",
    "    'K': 'Strikeouts',\n",
    "    'BB': 'Base on Balls/Walks Allowed',\n",
    "    'HBP': 'Hit By Pitch',\n",
    "    'SF': 'Sacrifice Flies Allowed',\n",
    "    'SH': 'Sacrifice Hits/Bunts Allowed',\n",
    "    'XBH': 'Extra-Base Hits Allowed',\n",
    "    'GB/FB': 'Ground Ball/Fly Ball Ratio',\n",
    "    'LD%': 'Line Drive Percentage Allowed',\n",
    "    'GB%': 'Ground Ball Percentage Allowed',\n",
    "    'FB%': 'Fly Ball Percentage Allowed',\n",
    "    'IFFB%': 'Infield Fly Ball Percentage',\n",
    "    'HR/FB': 'Home Runs per Fly Ball Ratio',\n",
    "    'O-Swing%': 'Swing Percentage at Pitches Outside the Strike Zone',\n",
    "    'Z-Swing%': 'Swing Percentage at Pitches Inside the Strike Zone',\n",
    "    'Swing%': 'Overall Swing Percentage',\n",
    "    'O-Contact%': 'Contact Rate on Pitches Outside the Strike Zone',\n",
    "    'Z-Contact%': 'Contact Rate on Pitches Inside the Strike Zone',\n",
    "    'Contact%': 'Overall Contact Rate',\n",
    "    'Zone%': 'Percentage of Pitches in the Strike Zone',\n",
    "    'F-Strike%': 'First-Pitch Strike Percentage',\n",
    "    'SwStr%': 'Swinging Strike Percentage',\n",
    "    'Downward Movement w/ Gravity (in)': 'Downward Movement of the Pitch with Gravity in Inches',\n",
    "    'Glove/Arm-Side Movement (in)': 'Lateral Movement of the Pitch Toward the Glove/Arm Side in Inches',\n",
    "    'Vertical Movement w/o Gravity (in)': 'Vertical Movement of the Pitch without Gravity in Inches',\n",
    "    'Movement Toward/Away from Batter (in)': 'Horizontal Movement of the Pitch Toward or Away from the Batter in Inches',\n",
    "    'EV (MPH)': 'Exit Velocity in Miles Per Hour',\n",
    "    'LA (°)': 'Launch Angle in Degrees',\n",
    "    'Dist (ft)': 'Average Distance of Batted Balls in Feet',\n",
    "    'Hard Hit%': 'Percentage of Hard Hit Balls',\n",
    "    'Barrel/BBE%': 'Percentage of Barreled Balls per Balls in Play',\n",
    "    'Barrel/PA%': 'Percentage of Barreled Balls per Plate Appearance'\n",
    "}\n",
    "\n",
    "\n",
    "# Convert DataFrame to PyArrow Table with metadata\n",
    "table7 = pa.Table.from_pandas(Pitcher_stats_df)\n",
    "table7 = table7.replace_schema_metadata({'metadata': str(metadata), 'dictionary': str(data_dictionary)})\n",
    "\n",
    "table7.schema"
   ]
  },
  {
   "cell_type": "code",
   "execution_count": 87,
   "id": "3a8aa8b0",
   "metadata": {},
   "outputs": [
    {
     "name": "stdout",
     "output_type": "stream",
     "text": [
      "Metadata: {'data_type': '2 = ข้อมูลสถิติ', 'title': 'ชุดข้อมูลสถิติทางการเล่นเบสบอลในระดับเมเจอร์ลีกเบสบอลอเมริกัน(MLB)', 'owner_org': 'Major League Baseball (MLB)', 'maintainer': ' Major League Baseball Advanced Media (MLBAM)', 'maintainer_email': 'mlbnviewerfeedback@mlb.com', 'tag_string': 'Batters', 'notes': 'ข้อมูลสถิติการเล่นเบสบอลของแต่ละผู้เล่นในระดับเมเจอร์ลีกเบสบอลอเมริกัน(MLB)', 'objective': '99 = อื่น ๆเพื่อวิเคราะห์ผู้เล่นเบสบอลในการหาปัจจัยสำคัญที่ทำให้มีโอกาสชนะมากขึ้น', 'update_frequency_unit': 'A = ปี', 'update_frequency_interval': '1', 'geo_coverage': '02 = ทวีป / กลุ่มประเทศในทวีป', 'data_source': 'Major League Baseball (MLB)', 'data_format': '99 = Parquet', 'data_category': '1 = ข้อมูลสาธารณะ', 'license_id': '98 = License not specified'}\n",
      "Data Dictionary: {'Rk.': 'Rank', 'Player': 'Player Name', 'Pitches': 'Total Number of Pitches Faced', 'Total': 'Total Number of (Specific Statistic)', 'Pitch %': 'Percentage of Total Pitches', 'PA': 'Plate Appearances', 'BIP': 'Balls in Play', 'Hits': 'Number of Hits', '3B': 'Triples', 'HR': 'Home Runs', 'K': 'Strikeouts', 'BB': 'Base on Balls/Walks', 'HBP': 'Hit By Pitch', 'SF': 'Sacrifice Flies', 'SH': 'Sacrifice Hits/Bunts', 'XBH': 'Extra-Base Hits', 'GB/FB': 'Ground Ball/Fly Ball Ratio', 'LD%': 'Line Drive Percentage', 'GB%': 'Ground Ball Percentage', 'FB%': 'Fly Ball Percentage', 'IFFB%': 'Infield Fly Ball Percentage', 'HR/FB': 'Home Runs per Fly Ball Ratio', 'O-Swing%': 'Swing Percentage at Pitches Outside the Strike Zone', 'Z-Swing%': 'Swing Percentage at Pitches Inside the Strike Zone', 'Swing%': 'Overall Swing Percentage', 'O-Contact%': 'Contact Rate on Pitches Outside the Strike Zone', 'Z-Contact%': 'Contact Rate on Pitches Inside the Strike Zone', 'Contact%': 'Overall Contact Rate', 'Zone%': 'Percentage of Pitches in the Strike Zone', 'F-Strike%': 'First-Pitch Strike Percentage', 'SwStr%': 'Swinging Strike Percentage', 'Downward Movement w/ Gravity (in)': 'Downward Movement of the Pitch with Gravity in Inches', 'Glove/Arm-Side Movement (in)': 'Lateral Movement of the Pitch Toward the Glove/Arm Side in Inches', 'Vertical Movement w/o Gravity (in)': 'Vertical Movement of the Pitch without Gravity in Inches', 'Movement Toward/Away from Batter (in)': 'Horizontal Movement of the Pitch Toward or Away from the Batter in Inches', 'EV (MPH)': 'Exit Velocity in Miles Per Hour', 'LA (°)': 'Launch Angle in Degrees', 'Dist (ft)': 'Average Distance of Batted Balls in Feet', 'Hard Hit%': 'Percentage of Hard Hit Balls', 'Barrel/BBE%': 'Percentage of Barreled Balls per Balls in Play', 'Barrel/PA%': 'Percentage of Barreled Balls per Plate Appearance'}\n"
     ]
    }
   ],
   "source": [
    "# Extracting metadata and data dictionary\n",
    "metadata = eval(table7.schema.metadata[b'metadata']) if b'metadata' in table7.schema.metadata else None\n",
    "data_dictionary = eval(table7.schema.metadata[b'dictionary']) if b'dictionary' in table7.schema.metadata else None\n",
    "\n",
    "# Display the DataFrame, Metadata, and Data Dictionary\n",
    "print(\"Metadata:\", metadata)\n",
    "print(\"Data Dictionary:\", data_dictionary)"
   ]
  },
  {
   "cell_type": "code",
   "execution_count": 88,
   "id": "ce72799f",
   "metadata": {},
   "outputs": [
    {
     "name": "stdout",
     "output_type": "stream",
     "text": [
      "├── 2022_MLB_Batting.parquet\n",
      "├── 2022_MLB_Pitching.parquet\n",
      "├── Batter_stats.parquet\n",
      "├── Pitcher_stats.parquet\n",
      "└── Prospect.parquet\n"
     ]
    }
   ],
   "source": [
    "#Write to GCS\n",
    "catalog_path = 'gcs://dsi310_bucket/group02/2023-12-14/'\n",
    "with fs.open(path=catalog_path+'Pitcher_stats.parquet',mode='wb') as f: \n",
    "    pq.write_table(table6, f)\n",
    "    \n",
    "tree(fs,catalog_path)"
   ]
  },
  {
   "cell_type": "markdown",
   "id": "195ae578",
   "metadata": {},
   "source": [
    "## Upload time"
   ]
  },
  {
   "cell_type": "code",
   "execution_count": 61,
   "id": "45225b0e",
   "metadata": {},
   "outputs": [
    {
     "name": "stdout",
     "output_type": "stream",
     "text": [
      "File group02/2023-12-14/Pitcher_stats.parquet was uploaded at 2023-12-18T19:07:14.640000+00:00\n"
     ]
    }
   ],
   "source": [
    "from google.cloud import storage\n",
    "from datetime import datetime\n",
    "\n",
    "def get_upload_timestamp(bucket_name, blob_name, token_path):\n",
    "    \"\"\"Retrieves the upload timestamp of a file in a GCS bucket.\"\"\"\n",
    "    # Authenticate using the token file\n",
    "    storage_client = storage.Client.from_service_account_json(token_path)\n",
    "    bucket = storage_client.bucket(bucket_name)\n",
    "    blob = bucket.get_blob(blob_name)\n",
    "\n",
    "    if blob:\n",
    "        # Convert the timestamp to a readable format (ISO 8601)\n",
    "        upload_timestamp = blob.time_created.isoformat()\n",
    "        print(f\"File {blob_name} was uploaded at {upload_timestamp}\")\n",
    "    else:\n",
    "        print(f\"File {blob_name} not found in bucket {bucket_name}.\")\n",
    "\n",
    "# Replace these with your actual values\n",
    "gcs_token_path = 'teacher-dsi310-2023.json'  # Path to your service account JSON file\n",
    "bucket_name = 'dsi310_bucket'  # Your GCS bucket name\n",
    "blob_name = 'group02/2023-12-14/Pitcher_stats.parquet'  # Name of the file in GCS\n",
    "\n",
    "get_upload_timestamp(bucket_name, blob_name, gcs_token_path)"
   ]
  },
  {
   "cell_type": "code",
   "execution_count": null,
   "id": "8dbbdc8d",
   "metadata": {},
   "outputs": [],
   "source": []
  }
 ],
 "metadata": {
  "kernelspec": {
   "display_name": "Python 3 (ipykernel)",
   "language": "python",
   "name": "python3"
  },
  "language_info": {
   "codemirror_mode": {
    "name": "ipython",
    "version": 3
   },
   "file_extension": ".py",
   "mimetype": "text/x-python",
   "name": "python",
   "nbconvert_exporter": "python",
   "pygments_lexer": "ipython3",
   "version": "3.9.13"
  }
 },
 "nbformat": 4,
 "nbformat_minor": 5
}
